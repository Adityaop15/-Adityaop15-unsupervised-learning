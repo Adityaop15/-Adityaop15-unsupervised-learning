{
 "cells": [
  {
   "cell_type": "markdown",
   "id": "93a8cec3",
   "metadata": {},
   "source": [
    "# Unsupervised Machine Learning with Scikit-learn\n",
    "Types of ML\n"
   ]
  },
  {
   "cell_type": "markdown",
   "id": "20ceb814",
   "metadata": {},
   "source": [
    "### Unsupervised ML: use of unlabeled data for training"
   ]
  },
  {
   "cell_type": "raw",
   "id": "4fbfac0d",
   "metadata": {},
   "source": [
    "The systems tries to learn without a teacher\n",
    "You are not given a target value/label that you are to predict the outcome as\n",
    "We only have the independent variables(x) and no target/dependent variable(y) in these problems.\n",
    "Libraries\n",
    "pandas\n",
    "scikit-learn\n",
    "pycaret\n",
    "hdbscan"
   ]
  },
  {
   "cell_type": "markdown",
   "id": "b9b6a4ac",
   "metadata": {},
   "source": [
    "### Types of UML Algorithms"
   ]
  },
  {
   "cell_type": "code",
   "execution_count": null,
   "id": "20205ea6",
   "metadata": {},
   "outputs": [],
   "source": [
    "Clustering\n",
    "Anomaly Detection:outlier detection\n",
    "Novelty Detection:\n",
    "Visualization\n",
    "Dimensionality Reduction:simplify data without losing too much info by merging correlated features into one\n",
    "Association Rule Learning:discovering interesting relations btwn attributes\n",
    "Clustering Unsupervised ML Task\n",
    "Clustering:\n",
    "The process of grouping dataset in to groups in such a way that similar datapoints are in the same group\n",
    "Usefulness"
   ]
  },
  {
   "cell_type": "markdown",
   "id": "17ebbc89",
   "metadata": {},
   "source": [
    "### EDA"
   ]
  },
  {
   "cell_type": "code",
   "execution_count": null,
   "id": "5d6077f9",
   "metadata": {},
   "outputs": [],
   "source": [
    "Pattern Recognition\n",
    "Image Analysis\n",
    "For working with unlabelled data\n",
    "Search engines image search\n",
    "Customer segmentation\n",
    "Market segmentation\n",
    "Outlier Detection\n",
    "clustering similar documents together,\n",
    "recommending similar songs or movies,\n",
    "Types of Clustering\n",
    "Flat vs Hierarchical\n",
    "Centroid Based vs Density Based\n"
   ]
  },
  {
   "cell_type": "markdown",
   "id": "4a908235",
   "metadata": {},
   "source": [
    "## Data Source"
   ]
  },
  {
   "cell_type": "code",
   "execution_count": null,
   "id": "6e9a4858",
   "metadata": {},
   "outputs": [],
   "source": [
    "https://archive.ics.uci.edu/ml/datasets\n",
    "Clustering using KMeans Algorithm\n",
    "Kmeans(Lloyd Forgy Algorithm)\n",
    "MiniBatchKmeans\n",
    "Benefits\n",
    "Fast and Scalable\n",
    "Demerits\n",
    "Need to know th number of clusters\n",
    "problem of having to pre-define the number of clusters.\n",
    "Elbow Method/Silhoutte Method\n",
    "Hierarchical Clustering:\n",
    "Varying sizes and different densities may affect performance\n",
    "scaling\n",
    "Terms\n",
    "k = number of clusters\n",
    ".label_: index of cluster\n",
    ".clustercenters: centroid\n",
    ".inertia_: performance metric of mean sq distance btwn each instance and its closest centroid\n",
    ".score:"
   ]
  },
  {
   "cell_type": "markdown",
   "id": "358238b2",
   "metadata": {},
   "source": [
    "## Task 1"
   ]
  },
  {
   "cell_type": "code",
   "execution_count": null,
   "id": "5ddfca77",
   "metadata": {},
   "outputs": [],
   "source": [
    "\n",
    "Segment Countries into their respective Continents\n",
    "Unsupervised ML\n",
    "https://developers.google.com/public-data/docs/canonical/countries_csv"
   ]
  },
  {
   "cell_type": "code",
   "execution_count": 6,
   "id": "3037ac28",
   "metadata": {},
   "outputs": [],
   "source": [
    "# Load EDA Pkgs\n",
    "import pandas as pd\n",
    "import numpy as np"
   ]
  },
  {
   "cell_type": "code",
   "execution_count": 7,
   "id": "e7314dbc",
   "metadata": {},
   "outputs": [],
   "source": [
    "# Load Visualization\n",
    "import matplotlib.pyplot as plt\n",
    "import seaborn as sns\n",
    "%matplotlib inline"
   ]
  },
  {
   "cell_type": "raw",
   "id": "e8ccd743",
   "metadata": {},
   "source": [
    " Task 2\n",
    "Find the different clusters\n",
    "Customer segmentation\n",
    "Different types of customer/buyers in a market"
   ]
  },
  {
   "cell_type": "code",
   "execution_count": 8,
   "id": "bb648fe4",
   "metadata": {},
   "outputs": [],
   "source": [
    "# Load Dataset\n",
    "df = pd.read_csv(\"countries.csv\")"
   ]
  },
  {
   "cell_type": "code",
   "execution_count": 9,
   "id": "1b902e26",
   "metadata": {},
   "outputs": [
    {
     "data": {
      "text/html": [
       "<div>\n",
       "<style scoped>\n",
       "    .dataframe tbody tr th:only-of-type {\n",
       "        vertical-align: middle;\n",
       "    }\n",
       "\n",
       "    .dataframe tbody tr th {\n",
       "        vertical-align: top;\n",
       "    }\n",
       "\n",
       "    .dataframe thead th {\n",
       "        text-align: right;\n",
       "    }\n",
       "</style>\n",
       "<table border=\"1\" class=\"dataframe\">\n",
       "  <thead>\n",
       "    <tr style=\"text-align: right;\">\n",
       "      <th></th>\n",
       "      <th>country</th>\n",
       "      <th>Latitude</th>\n",
       "      <th>Longitude</th>\n",
       "      <th>name</th>\n",
       "    </tr>\n",
       "  </thead>\n",
       "  <tbody>\n",
       "    <tr>\n",
       "      <th>0</th>\n",
       "      <td>AD</td>\n",
       "      <td>42.50</td>\n",
       "      <td>1.50</td>\n",
       "      <td>Andorra</td>\n",
       "    </tr>\n",
       "    <tr>\n",
       "      <th>1</th>\n",
       "      <td>AE</td>\n",
       "      <td>24.00</td>\n",
       "      <td>54.00</td>\n",
       "      <td>United Arab Emirates</td>\n",
       "    </tr>\n",
       "    <tr>\n",
       "      <th>2</th>\n",
       "      <td>AF</td>\n",
       "      <td>33.00</td>\n",
       "      <td>65.00</td>\n",
       "      <td>Afghanistan</td>\n",
       "    </tr>\n",
       "    <tr>\n",
       "      <th>3</th>\n",
       "      <td>AG</td>\n",
       "      <td>17.05</td>\n",
       "      <td>-61.80</td>\n",
       "      <td>Antigua and Barbuda</td>\n",
       "    </tr>\n",
       "    <tr>\n",
       "      <th>4</th>\n",
       "      <td>AI</td>\n",
       "      <td>18.25</td>\n",
       "      <td>-63.17</td>\n",
       "      <td>Anguilla</td>\n",
       "    </tr>\n",
       "  </tbody>\n",
       "</table>\n",
       "</div>"
      ],
      "text/plain": [
       "  country  Latitude  Longitude                  name\n",
       "0      AD     42.50       1.50               Andorra\n",
       "1      AE     24.00      54.00  United Arab Emirates\n",
       "2      AF     33.00      65.00           Afghanistan\n",
       "3      AG     17.05     -61.80   Antigua and Barbuda\n",
       "4      AI     18.25     -63.17              Anguilla"
      ]
     },
     "execution_count": 9,
     "metadata": {},
     "output_type": "execute_result"
    }
   ],
   "source": [
    "df.head()"
   ]
  },
  {
   "cell_type": "code",
   "execution_count": 10,
   "id": "f2f6ed2b",
   "metadata": {},
   "outputs": [
    {
     "data": {
      "text/plain": [
       "country       object\n",
       "Latitude     float64\n",
       "Longitude    float64\n",
       "name          object\n",
       "dtype: object"
      ]
     },
     "execution_count": 10,
     "metadata": {},
     "output_type": "execute_result"
    }
   ],
   "source": [
    "# Check For Dtypes\n",
    "df.dtypes"
   ]
  },
  {
   "cell_type": "code",
   "execution_count": 11,
   "id": "2d062ac6",
   "metadata": {},
   "outputs": [
    {
     "data": {
      "text/plain": [
       "country      1\n",
       "Latitude     0\n",
       "Longitude    0\n",
       "name         0\n",
       "dtype: int64"
      ]
     },
     "execution_count": 11,
     "metadata": {},
     "output_type": "execute_result"
    }
   ],
   "source": [
    "# Check For Missing NAN\n",
    "df.isnull().sum()"
   ]
  },
  {
   "cell_type": "code",
   "execution_count": 12,
   "id": "e6714548",
   "metadata": {},
   "outputs": [],
   "source": [
    "# Drop Na\n",
    "df = df.dropna()"
   ]
  },
  {
   "cell_type": "code",
   "execution_count": 13,
   "id": "83116319",
   "metadata": {},
   "outputs": [
    {
     "data": {
      "text/plain": [
       "Index(['country', 'Latitude', 'Longitude', 'name'], dtype='object')"
      ]
     },
     "execution_count": 13,
     "metadata": {},
     "output_type": "execute_result"
    }
   ],
   "source": [
    "# Columns Consistency\n",
    "df.columns"
   ]
  },
  {
   "cell_type": "code",
   "execution_count": 14,
   "id": "74be3174",
   "metadata": {},
   "outputs": [
    {
     "data": {
      "text/plain": [
       "(239, 4)"
      ]
     },
     "execution_count": 14,
     "metadata": {},
     "output_type": "execute_result"
    }
   ],
   "source": [
    "# Check For Countries\n",
    "df.shape"
   ]
  },
  {
   "cell_type": "code",
   "execution_count": 15,
   "id": "a04472ec",
   "metadata": {},
   "outputs": [
    {
     "data": {
      "text/plain": [
       "<matplotlib.collections.PathCollection at 0x1d196bc6340>"
      ]
     },
     "execution_count": 15,
     "metadata": {},
     "output_type": "execute_result"
    },
    {
     "data": {
      "image/png": "[encoded data removed]",
      "text/plain": [
       "<Figure size 432x288 with 1 Axes>"
      ]
     },
     "metadata": {
      "needs_background": "light"
     },
     "output_type": "display_data"
    }
   ],
   "source": [
    "# Plot of our Countries \n",
    "plt.scatter(df['Longitude'],df['Latitude'])"
   ]
  },
  {
   "cell_type": "code",
   "execution_count": 16,
   "id": "b55b9d7d",
   "metadata": {},
   "outputs": [],
   "source": [
    "#Working with Kmeans"
   ]
  },
  {
   "cell_type": "code",
   "execution_count": 17,
   "id": "ee811a49",
   "metadata": {},
   "outputs": [
    {
     "data": {
      "text/plain": [
       "array([2, 4, 4, 1, 1, 2, 4, 1, 3, 0, 3, 1, 6, 2, 5, 1, 4, 2, 1, 0, 2, 2,\n",
       "       2, 4, 3, 3, 1, 0, 1, 1, 1, 0, 3, 3, 2, 1, 1, 0, 3, 3, 3, 2, 3, 6,\n",
       "       1, 3, 0, 1, 1, 1, 2, 0, 4, 2, 2, 4, 2, 1, 1, 2, 1, 2, 4, 2, 4, 2,\n",
       "       3, 2, 2, 5, 1, 5, 2, 2, 3, 2, 1, 4, 1, 3, 2, 2, 2, 2, 1, 3, 2, 1,\n",
       "       1, 5, 2, 1, 0, 3, 1, 2, 1, 2, 0, 2, 4, 0, 0, 4, 4, 2, 2, 1, 4, 0,\n",
       "       3, 4, 0, 5, 3, 1, 0, 0, 4, 1, 4, 0, 4, 1, 2, 0, 3, 3, 2, 2, 2, 2,\n",
       "       2, 2, 2, 2, 3, 5, 2, 2, 0, 0, 0, 5, 1, 2, 1, 2, 3, 0, 3, 1, 0, 3,\n",
       "       5, 2, 5, 3, 1, 2, 2, 0, 5, 6, 5, 4, 1, 1, 6, 5, 0, 4, 2, 1, 1, 4,\n",
       "       2, 5, 1, 4, 3, 2, 2, 0, 3, 4, 5, 3, 4, 2, 0, 3, 2, 2, 2, 2, 2, 2,\n",
       "       4, 1, 3, 1, 4, 3, 1, 3, 3, 3, 0, 4, 6, 4, 2, 6, 4, 1, 5, 0, 3, 4,\n",
       "       3, 5, 1, 1, 4, 2, 1, 1, 1, 1, 0, 5, 6, 6, 4, 3, 3, 3, 3])"
      ]
     },
     "execution_count": 17,
     "metadata": {},
     "output_type": "execute_result"
    }
   ],
   "source": [
    "from sklearn.cluster import KMeans\n",
    "# By Assumation we have 7 continents\n",
    "# k = 7\n",
    "km = KMeans(n_clusters=7)\n",
    "# Prep\n",
    "xfeatures = df[['Longitude','Latitude']]\n",
    "# Fit n Predict\n",
    "clusters = km.fit_predict(xfeatures)\n",
    "# Get all the Labels(Clusters)\n",
    "km.labels_"
   ]
  },
  {
   "cell_type": "code",
   "execution_count": 18,
   "id": "f0cd1493",
   "metadata": {},
   "outputs": [
    {
     "data": {
      "text/plain": [
       "array([2, 4, 4, 1, 1, 2, 4, 1, 3, 0, 3, 1, 6, 2, 5, 1, 4, 2, 1, 0, 2, 2,\n",
       "       2, 4, 3, 3, 1, 0, 1, 1, 1, 0, 3, 3, 2, 1, 1, 0, 3, 3, 3, 2, 3, 6,\n",
       "       1, 3, 0, 1, 1, 1, 2, 0, 4, 2, 2, 4, 2, 1, 1, 2, 1, 2, 4, 2, 4, 2,\n",
       "       3, 2, 2, 5, 1, 5, 2, 2, 3, 2, 1, 4, 1, 3, 2, 2, 2, 2, 1, 3, 2, 1,\n",
       "       1, 5, 2, 1, 0, 3, 1, 2, 1, 2, 0, 2, 4, 0, 0, 4, 4, 2, 2, 1, 4, 0,\n",
       "       3, 4, 0, 5, 3, 1, 0, 0, 4, 1, 4, 0, 4, 1, 2, 0, 3, 3, 2, 2, 2, 2,\n",
       "       2, 2, 2, 2, 3, 5, 2, 2, 0, 0, 0, 5, 1, 2, 1, 2, 3, 0, 3, 1, 0, 3,\n",
       "       5, 2, 5, 3, 1, 2, 2, 0, 5, 6, 5, 4, 1, 1, 6, 5, 0, 4, 2, 1, 1, 4,\n",
       "       2, 5, 1, 4, 3, 2, 2, 0, 3, 4, 5, 3, 4, 2, 0, 3, 2, 2, 2, 2, 2, 2,\n",
       "       4, 1, 3, 1, 4, 3, 1, 3, 3, 3, 0, 4, 6, 4, 2, 6, 4, 1, 5, 0, 3, 4,\n",
       "       3, 5, 1, 1, 4, 2, 1, 1, 1, 1, 0, 5, 6, 6, 4, 3, 3, 3, 3])"
      ]
     },
     "execution_count": 18,
     "metadata": {},
     "output_type": "execute_result"
    }
   ],
   "source": [
    "clusters"
   ]
  },
  {
   "cell_type": "code",
   "execution_count": 19,
   "id": "bfc827fd",
   "metadata": {},
   "outputs": [
    {
     "data": {
      "text/plain": [
       "True"
      ]
     },
     "execution_count": 19,
     "metadata": {},
     "output_type": "execute_result"
    }
   ],
   "source": [
    "# Check if predicted clusters is the same as our labels\n",
    "clusters is km.labels_"
   ]
  },
  {
   "cell_type": "code",
   "execution_count": 20,
   "id": "1f024553",
   "metadata": {},
   "outputs": [
    {
     "data": {
      "text/plain": [
       "array([[ 103.88586207,   18.55310345],\n",
       "       [ -69.50156863,    8.9354902 ],\n",
       "       [   7.01645161,   42.23725806],\n",
       "       [  25.41575   ,  -11.40425   ],\n",
       "       [  47.8215625 ,   30.9428125 ],\n",
       "       [ 160.25      ,   -6.01588235],\n",
       "       [-166.89625   ,  -15.68375   ]])"
      ]
     },
     "execution_count": 20,
     "metadata": {},
     "output_type": "execute_result"
    }
   ],
   "source": [
    "# Centroid/Center\n",
    "km.cluster_centers_"
   ]
  },
  {
   "cell_type": "code",
   "execution_count": 21,
   "id": "92ec2d9a",
   "metadata": {},
   "outputs": [],
   "source": [
    "# Store and Map\n",
    "df['cluster_continents'] = clusters"
   ]
  },
  {
   "cell_type": "code",
   "execution_count": 22,
   "id": "693c367a",
   "metadata": {},
   "outputs": [
    {
     "data": {
      "text/html": [
       "<div>\n",
       "<style scoped>\n",
       "    .dataframe tbody tr th:only-of-type {\n",
       "        vertical-align: middle;\n",
       "    }\n",
       "\n",
       "    .dataframe tbody tr th {\n",
       "        vertical-align: top;\n",
       "    }\n",
       "\n",
       "    .dataframe thead th {\n",
       "        text-align: right;\n",
       "    }\n",
       "</style>\n",
       "<table border=\"1\" class=\"dataframe\">\n",
       "  <thead>\n",
       "    <tr style=\"text-align: right;\">\n",
       "      <th></th>\n",
       "      <th>country</th>\n",
       "      <th>Latitude</th>\n",
       "      <th>Longitude</th>\n",
       "      <th>name</th>\n",
       "      <th>cluster_continents</th>\n",
       "    </tr>\n",
       "  </thead>\n",
       "  <tbody>\n",
       "    <tr>\n",
       "      <th>0</th>\n",
       "      <td>AD</td>\n",
       "      <td>42.50</td>\n",
       "      <td>1.50</td>\n",
       "      <td>Andorra</td>\n",
       "      <td>2</td>\n",
       "    </tr>\n",
       "    <tr>\n",
       "      <th>1</th>\n",
       "      <td>AE</td>\n",
       "      <td>24.00</td>\n",
       "      <td>54.00</td>\n",
       "      <td>United Arab Emirates</td>\n",
       "      <td>4</td>\n",
       "    </tr>\n",
       "    <tr>\n",
       "      <th>2</th>\n",
       "      <td>AF</td>\n",
       "      <td>33.00</td>\n",
       "      <td>65.00</td>\n",
       "      <td>Afghanistan</td>\n",
       "      <td>4</td>\n",
       "    </tr>\n",
       "    <tr>\n",
       "      <th>3</th>\n",
       "      <td>AG</td>\n",
       "      <td>17.05</td>\n",
       "      <td>-61.80</td>\n",
       "      <td>Antigua and Barbuda</td>\n",
       "      <td>1</td>\n",
       "    </tr>\n",
       "    <tr>\n",
       "      <th>4</th>\n",
       "      <td>AI</td>\n",
       "      <td>18.25</td>\n",
       "      <td>-63.17</td>\n",
       "      <td>Anguilla</td>\n",
       "      <td>1</td>\n",
       "    </tr>\n",
       "  </tbody>\n",
       "</table>\n",
       "</div>"
      ],
      "text/plain": [
       "  country  Latitude  Longitude                  name  cluster_continents\n",
       "0      AD     42.50       1.50               Andorra                   2\n",
       "1      AE     24.00      54.00  United Arab Emirates                   4\n",
       "2      AF     33.00      65.00           Afghanistan                   4\n",
       "3      AG     17.05     -61.80   Antigua and Barbuda                   1\n",
       "4      AI     18.25     -63.17              Anguilla                   1"
      ]
     },
     "execution_count": 22,
     "metadata": {},
     "output_type": "execute_result"
    }
   ],
   "source": [
    "df.head()"
   ]
  },
  {
   "cell_type": "code",
   "execution_count": 23,
   "id": "d0d193fd",
   "metadata": {},
   "outputs": [
    {
     "data": {
      "text/plain": [
       "<matplotlib.collections.PathCollection at 0x1d197c5d820>"
      ]
     },
     "execution_count": 23,
     "metadata": {},
     "output_type": "execute_result"
    },
    {
     "data": {
      "image/png": "[encoded data removed]",
      "text/plain": [
       "<Figure size 432x288 with 1 Axes>"
      ]
     },
     "metadata": {
      "needs_background": "light"
     },
     "output_type": "display_data"
    }
   ],
   "source": [
    "# Plot of our clusters\n",
    "plt.scatter(df['Longitude'],df['Latitude'],c=df['cluster_continents'],cmap='rainbow')"
   ]
  },
  {
   "cell_type": "markdown",
   "id": "2b0665a5",
   "metadata": {},
   "source": [
    "# Task2"
   ]
  },
  {
   "cell_type": "code",
   "execution_count": 3,
   "id": "4e76b4ff",
   "metadata": {},
   "outputs": [],
   "source": [
    "df_cust=pd.read_csv(\"jewellery.csv\")\n"
   ]
  },
  {
   "cell_type": "code",
   "execution_count": 4,
   "id": "b6aa80aa",
   "metadata": {},
   "outputs": [
    {
     "data": {
      "text/html": [
       "<div>\n",
       "<style scoped>\n",
       "    .dataframe tbody tr th:only-of-type {\n",
       "        vertical-align: middle;\n",
       "    }\n",
       "\n",
       "    .dataframe tbody tr th {\n",
       "        vertical-align: top;\n",
       "    }\n",
       "\n",
       "    .dataframe thead th {\n",
       "        text-align: right;\n",
       "    }\n",
       "</style>\n",
       "<table border=\"1\" class=\"dataframe\">\n",
       "  <thead>\n",
       "    <tr style=\"text-align: right;\">\n",
       "      <th></th>\n",
       "      <th>Unnamed: 0</th>\n",
       "      <th>Age</th>\n",
       "      <th>Income</th>\n",
       "      <th>SpendingScore</th>\n",
       "      <th>Savings</th>\n",
       "    </tr>\n",
       "  </thead>\n",
       "  <tbody>\n",
       "    <tr>\n",
       "      <th>0</th>\n",
       "      <td>0</td>\n",
       "      <td>58</td>\n",
       "      <td>77769</td>\n",
       "      <td>0.791329</td>\n",
       "      <td>6559.829923</td>\n",
       "    </tr>\n",
       "    <tr>\n",
       "      <th>1</th>\n",
       "      <td>1</td>\n",
       "      <td>59</td>\n",
       "      <td>81799</td>\n",
       "      <td>0.791082</td>\n",
       "      <td>5417.661426</td>\n",
       "    </tr>\n",
       "    <tr>\n",
       "      <th>2</th>\n",
       "      <td>2</td>\n",
       "      <td>62</td>\n",
       "      <td>74751</td>\n",
       "      <td>0.702657</td>\n",
       "      <td>9258.992965</td>\n",
       "    </tr>\n",
       "    <tr>\n",
       "      <th>3</th>\n",
       "      <td>3</td>\n",
       "      <td>59</td>\n",
       "      <td>74373</td>\n",
       "      <td>0.765680</td>\n",
       "      <td>7346.334504</td>\n",
       "    </tr>\n",
       "    <tr>\n",
       "      <th>4</th>\n",
       "      <td>4</td>\n",
       "      <td>87</td>\n",
       "      <td>17760</td>\n",
       "      <td>0.348778</td>\n",
       "      <td>16869.507130</td>\n",
       "    </tr>\n",
       "  </tbody>\n",
       "</table>\n",
       "</div>"
      ],
      "text/plain": [
       "   Unnamed: 0  Age  Income  SpendingScore       Savings\n",
       "0           0   58   77769       0.791329   6559.829923\n",
       "1           1   59   81799       0.791082   5417.661426\n",
       "2           2   62   74751       0.702657   9258.992965\n",
       "3           3   59   74373       0.765680   7346.334504\n",
       "4           4   87   17760       0.348778  16869.507130"
      ]
     },
     "execution_count": 4,
     "metadata": {},
     "output_type": "execute_result"
    }
   ],
   "source": [
    "df_cust.head()"
   ]
  },
  {
   "cell_type": "code",
   "execution_count": 24,
   "id": "993ffa3b",
   "metadata": {},
   "outputs": [
    {
     "data": {
      "text/plain": [
       "country                object\n",
       "Latitude              float64\n",
       "Longitude             float64\n",
       "name                   object\n",
       "cluster_continents      int32\n",
       "dtype: object"
      ]
     },
     "execution_count": 24,
     "metadata": {},
     "output_type": "execute_result"
    }
   ],
   "source": [
    "# Dtypes\n",
    "df.dtypes"
   ]
  },
  {
   "cell_type": "code",
   "execution_count": 25,
   "id": "c23f93ea",
   "metadata": {},
   "outputs": [
    {
     "data": {
      "text/html": [
       "<div>\n",
       "<style scoped>\n",
       "    .dataframe tbody tr th:only-of-type {\n",
       "        vertical-align: middle;\n",
       "    }\n",
       "\n",
       "    .dataframe tbody tr th {\n",
       "        vertical-align: top;\n",
       "    }\n",
       "\n",
       "    .dataframe thead th {\n",
       "        text-align: right;\n",
       "    }\n",
       "</style>\n",
       "<table border=\"1\" class=\"dataframe\">\n",
       "  <thead>\n",
       "    <tr style=\"text-align: right;\">\n",
       "      <th></th>\n",
       "      <th>Unnamed: 0</th>\n",
       "      <th>Age</th>\n",
       "      <th>Income</th>\n",
       "      <th>SpendingScore</th>\n",
       "      <th>Savings</th>\n",
       "    </tr>\n",
       "  </thead>\n",
       "  <tbody>\n",
       "    <tr>\n",
       "      <th>count</th>\n",
       "      <td>505.000000</td>\n",
       "      <td>505.000000</td>\n",
       "      <td>505.000000</td>\n",
       "      <td>505.000000</td>\n",
       "      <td>505.000000</td>\n",
       "    </tr>\n",
       "    <tr>\n",
       "      <th>mean</th>\n",
       "      <td>252.000000</td>\n",
       "      <td>59.019802</td>\n",
       "      <td>75513.291089</td>\n",
       "      <td>0.505083</td>\n",
       "      <td>11862.455867</td>\n",
       "    </tr>\n",
       "    <tr>\n",
       "      <th>std</th>\n",
       "      <td>145.925209</td>\n",
       "      <td>24.140043</td>\n",
       "      <td>35992.922184</td>\n",
       "      <td>0.259634</td>\n",
       "      <td>4949.229253</td>\n",
       "    </tr>\n",
       "    <tr>\n",
       "      <th>min</th>\n",
       "      <td>0.000000</td>\n",
       "      <td>17.000000</td>\n",
       "      <td>12000.000000</td>\n",
       "      <td>0.000000</td>\n",
       "      <td>0.000000</td>\n",
       "    </tr>\n",
       "    <tr>\n",
       "      <th>25%</th>\n",
       "      <td>126.000000</td>\n",
       "      <td>34.000000</td>\n",
       "      <td>34529.000000</td>\n",
       "      <td>0.304792</td>\n",
       "      <td>6828.709702</td>\n",
       "    </tr>\n",
       "    <tr>\n",
       "      <th>50%</th>\n",
       "      <td>252.000000</td>\n",
       "      <td>59.000000</td>\n",
       "      <td>75078.000000</td>\n",
       "      <td>0.368215</td>\n",
       "      <td>14209.932802</td>\n",
       "    </tr>\n",
       "    <tr>\n",
       "      <th>75%</th>\n",
       "      <td>378.000000</td>\n",
       "      <td>85.000000</td>\n",
       "      <td>107100.000000</td>\n",
       "      <td>0.768279</td>\n",
       "      <td>16047.268331</td>\n",
       "    </tr>\n",
       "    <tr>\n",
       "      <th>max</th>\n",
       "      <td>504.000000</td>\n",
       "      <td>97.000000</td>\n",
       "      <td>142000.000000</td>\n",
       "      <td>1.000000</td>\n",
       "      <td>20000.000000</td>\n",
       "    </tr>\n",
       "  </tbody>\n",
       "</table>\n",
       "</div>"
      ],
      "text/plain": [
       "       Unnamed: 0         Age         Income  SpendingScore       Savings\n",
       "count  505.000000  505.000000     505.000000     505.000000    505.000000\n",
       "mean   252.000000   59.019802   75513.291089       0.505083  11862.455867\n",
       "std    145.925209   24.140043   35992.922184       0.259634   4949.229253\n",
       "min      0.000000   17.000000   12000.000000       0.000000      0.000000\n",
       "25%    126.000000   34.000000   34529.000000       0.304792   6828.709702\n",
       "50%    252.000000   59.000000   75078.000000       0.368215  14209.932802\n",
       "75%    378.000000   85.000000  107100.000000       0.768279  16047.268331\n",
       "max    504.000000   97.000000  142000.000000       1.000000  20000.000000"
      ]
     },
     "execution_count": 25,
     "metadata": {},
     "output_type": "execute_result"
    }
   ],
   "source": [
    "# Descriptive Stat\n",
    "df_cust.describe()"
   ]
  },
  {
   "cell_type": "code",
   "execution_count": 26,
   "id": "da6d1170",
   "metadata": {},
   "outputs": [
    {
     "data": {
      "text/plain": [
       "<matplotlib.collections.PathCollection at 0x1d197ce9490>"
      ]
     },
     "execution_count": 26,
     "metadata": {},
     "output_type": "execute_result"
    },
    {
     "data": {
      "image/png": "[encoded data removed]",
      "text/plain": [
       "<Figure size 432x288 with 1 Axes>"
      ]
     },
     "metadata": {
      "needs_background": "light"
     },
     "output_type": "display_data"
    }
   ],
   "source": [
    "# Simple Plot\n",
    "plt.scatter(df_cust['Age'],df_cust['Income'])"
   ]
  },
  {
   "cell_type": "code",
   "execution_count": 27,
   "id": "79e070df",
   "metadata": {},
   "outputs": [
    {
     "data": {
      "text/plain": [
       "Age  Income\n",
       "17   123828    1\n",
       "     134734    1\n",
       "     134966    1\n",
       "     136255    1\n",
       "18   123718    1\n",
       "              ..\n",
       "94   27771     1\n",
       "     28352     1\n",
       "     38923     1\n",
       "95   27038     1\n",
       "97   27271     1\n",
       "Length: 505, dtype: int64"
      ]
     },
     "execution_count": 27,
     "metadata": {},
     "output_type": "execute_result"
    }
   ],
   "source": [
    "# Groups based on Age and Income\n",
    "df_cust.groupby(['Age','Income']).size()"
   ]
  },
  {
   "cell_type": "code",
   "execution_count": 28,
   "id": "ebf37741",
   "metadata": {},
   "outputs": [
    {
     "ename": "SyntaxError",
     "evalue": "invalid syntax (Temp/ipykernel_42264/1063944826.py, line 1)",
     "output_type": "error",
     "traceback": [
      "\u001b[1;36m  File \u001b[1;32m\"C:\\Users\\DELL\\AppData\\Local\\Temp/ipykernel_42264/1063944826.py\"\u001b[1;36m, line \u001b[1;32m1\u001b[0m\n\u001b[1;33m    How to Find the Optimal K for the cluster\u001b[0m\n\u001b[1;37m        ^\u001b[0m\n\u001b[1;31mSyntaxError\u001b[0m\u001b[1;31m:\u001b[0m invalid syntax\n"
     ]
    }
   ],
   "source": [
    "How to Find the Optimal K for the cluster\n",
    "Elbow Method\n",
    "Silhouette Method\n",
    "How to choose the best k - number for your cluster\n",
    "Elbow method\n",
    "Silhoutte score\n",
    "+1 : close to 1 means that datapoint is inside it own cluster\n",
    "0 : close to 0 means it is close to a cluster boundary\n",
    "-1 : close to 1 means it is in a wrong cluster"
   ]
  },
  {
   "cell_type": "code",
   "execution_count": 29,
   "id": "d097ba84",
   "metadata": {},
   "outputs": [
    {
     "name": "stderr",
     "output_type": "stream",
     "text": [
      "C:\\Users\\DELL\\Anaconda3\\lib\\site-packages\\sklearn\\cluster\\_kmeans.py:1036: UserWarning: KMeans is known to have a memory leak on Windows with MKL, when there are less chunks than available threads. You can avoid it by setting the environment variable OMP_NUM_THREADS=2.\n",
      "  warnings.warn(\n"
     ]
    },
    {
     "data": {
      "image/png": "[encoded data removed]",
      "text/plain": [
       "<Figure size 432x288 with 1 Axes>"
      ]
     },
     "metadata": {
      "needs_background": "light"
     },
     "output_type": "display_data"
    }
   ],
   "source": [
    "# Elbow Method\n",
    "# Use the sum of squared distance and find where there is a bent\n",
    "\n",
    "sum_of_sqr_distance = []\n",
    "k_range = range(1,15)\n",
    "for k in k_range:\n",
    "    km_model2 = KMeans(n_clusters=k)\n",
    "    km_model2.fit(df_cust)\n",
    "    sum_of_sqr_distance.append(km_model2.inertia_)\n",
    "# Plot for Elbow Method\n",
    "plt.plot(k_range,sum_of_sqr_distance)\n",
    "plt.xlabel('K- Clusters')\n",
    "plt.ylabel('Sum_SD')\n",
    "plt.title(\"Elbow Plot for Optimal K\")\n",
    "plt.show()"
   ]
  },
  {
   "cell_type": "markdown",
   "id": "a2c03034",
   "metadata": {},
   "source": [
    "### Using Silhouette Method for finding Optimal K"
   ]
  },
  {
   "cell_type": "code",
   "execution_count": 31,
   "id": "76ee4653",
   "metadata": {},
   "outputs": [
    {
     "name": "stdout",
     "output_type": "stream",
     "text": [
      "For n_clusters = 2, silhouette score is 0.6546795354705536)\n",
      "For n_clusters = 3, silhouette score is 0.7392009410416175)\n",
      "For n_clusters = 4, silhouette score is 0.7205462885103431)\n",
      "For n_clusters = 5, silhouette score is 0.6779245227040096)\n",
      "For n_clusters = 6, silhouette score is 0.5773535058906423)\n"
     ]
    }
   ],
   "source": [
    "from sklearn.metrics import silhouette_samples,silhouette_score\n",
    "\n",
    "range_n_clusters = [2, 3, 4, 5, 6]\n",
    "for n_clusters in range_n_clusters:\n",
    "    km_models3 = KMeans(n_clusters=n_clusters)\n",
    "    preds = km_models3.fit_predict(df_cust)\n",
    "    centers = km_models3.cluster_centers_\n",
    "\n",
    "    score = silhouette_score(df_cust, preds)\n",
    "    print(\"For n_clusters = {}, silhouette score is {})\".format(n_clusters, score))"
   ]
  },
  {
   "cell_type": "code",
   "execution_count": 32,
   "id": "d87eb226",
   "metadata": {},
   "outputs": [
    {
     "data": {
      "text/plain": [
       "array([2, 2, 2, 2, 1, 0, 2, 1, 1, 1, 3, 3, 3, 3, 2, 0, 2, 1, 1, 0, 3, 0,\n",
       "       2, 1, 0, 0, 0, 2, 1, 2, 2, 2, 1, 2, 3, 2, 1, 2, 3, 3, 2, 1, 0, 2,\n",
       "       2, 0, 0, 0, 3, 2, 1, 3, 0, 1, 2, 1, 3, 1, 1, 1, 1, 1, 1, 2, 2, 2,\n",
       "       1, 0, 0, 2, 2, 3, 1, 1, 3, 2, 3, 2, 2, 0, 2, 3, 2, 1, 1, 3, 3, 2,\n",
       "       2, 2, 2, 2, 0, 1, 2, 0, 3, 2, 2, 3, 3, 0, 3, 0, 3, 1, 1, 3, 3, 2,\n",
       "       1, 3, 2, 3, 3, 3, 2, 3, 0, 1, 3, 1, 1, 1, 3, 0, 2, 1, 2, 2, 3, 2,\n",
       "       3, 2, 0, 1, 0, 0, 2, 3, 1, 2, 2, 0, 2, 0, 2, 0, 2, 1, 2, 3, 1, 2,\n",
       "       1, 3, 3, 2, 1, 2, 3, 1, 2, 3, 1, 3, 1, 2, 3, 2, 1, 2, 3, 2, 1, 2,\n",
       "       2, 1, 1, 1, 2, 2, 3, 0, 0, 1, 3, 2, 2, 2, 3, 1, 2, 2, 2, 1, 0, 3,\n",
       "       1, 1, 1, 3, 2, 3, 2, 3, 2, 1, 0, 2, 1, 1, 1, 1, 2, 1, 3, 0, 3, 1,\n",
       "       2, 2, 3, 1, 0, 0, 3, 2, 2, 1, 2, 2, 1, 2, 2, 2, 3, 2, 3, 3, 0, 2,\n",
       "       2, 2, 0, 2, 3, 1, 0, 0, 0, 1, 2, 3, 1, 1, 3, 3, 2, 2, 0, 2, 2, 1,\n",
       "       2, 1, 3, 0, 2, 3, 1, 2, 1, 1, 3, 2, 1, 1, 2, 2, 1, 3, 3, 0, 3, 1,\n",
       "       1, 3, 0, 1, 1, 0, 2, 3, 3, 2, 3, 1, 1, 3, 2, 3, 1, 2, 3, 0, 2, 1,\n",
       "       3, 3, 1, 0, 3, 2, 1, 3, 2, 2, 1, 3, 1, 3, 1, 3, 1, 1, 3, 1, 3, 2,\n",
       "       3, 2, 2, 3, 3, 1, 1, 0, 0, 3, 1, 0, 1, 3, 2, 2, 2, 1, 1, 3, 3, 0,\n",
       "       0, 0, 2, 3, 0, 1, 2, 1, 0, 2, 1, 1, 2, 1, 3, 2, 3, 3, 3, 2, 1, 1,\n",
       "       1, 1, 1, 3, 3, 1, 2, 3, 3, 0, 1, 1, 2, 1, 1, 2, 1, 1, 3, 1, 2, 3,\n",
       "       0, 3, 2, 1, 3, 2, 2, 2, 1, 3, 0, 3, 2, 3, 2, 2, 0, 3, 0, 0, 3, 3,\n",
       "       1, 2, 1, 3, 1, 3, 2, 2, 1, 0, 3, 1, 3, 2, 2, 3, 2, 1, 2, 3, 2, 1,\n",
       "       2, 1, 0, 3, 3, 0, 3, 3, 1, 1, 2, 0, 2, 3, 3, 0, 0, 3, 0, 1, 3, 3,\n",
       "       2, 3, 1, 1, 0, 2, 0, 2, 2, 3, 2, 2, 2, 1, 3, 3, 2, 2, 2, 1, 3, 1,\n",
       "       1, 1, 1, 0, 1, 1, 1, 2, 2, 1, 1, 2, 0, 1, 3, 0, 3, 1, 1, 1, 1])"
      ]
     },
     "execution_count": 32,
     "metadata": {},
     "output_type": "execute_result"
    }
   ],
   "source": [
    "# Init Model\n",
    "km3 = KMeans(n_clusters=4)\n",
    "# Fit Predict\n",
    "y_pred = km3.fit_predict(df_cust)\n",
    "y_pred"
   ]
  },
  {
   "cell_type": "code",
   "execution_count": 33,
   "id": "07d10933",
   "metadata": {},
   "outputs": [
    {
     "data": {
      "text/plain": [
       "array([[2.42972222e+02, 4.08750000e+01, 1.26031667e+05, 6.54598429e-01,\n",
       "        7.28792610e+03],\n",
       "       [2.65503401e+02, 8.77755102e+01, 2.78661020e+04, 3.28800461e-01,\n",
       "        1.66592614e+04],\n",
       "       [2.33141026e+02, 5.99615385e+01, 7.23328462e+04, 7.71295985e-01,\n",
       "        6.89089329e+03],\n",
       "       [2.64361538e+02, 3.54230769e+01, 1.05228392e+05, 3.02152694e-01,\n",
       "        1.49378365e+04]])"
      ]
     },
     "execution_count": 33,
     "metadata": {},
     "output_type": "execute_result"
    }
   ],
   "source": [
    "# Centroid/Cluster Centers\n",
    "km3.cluster_centers_"
   ]
  },
  {
   "cell_type": "code",
   "execution_count": 34,
   "id": "fd94dfbe",
   "metadata": {},
   "outputs": [
    {
     "data": {
      "text/html": [
       "<div>\n",
       "<style scoped>\n",
       "    .dataframe tbody tr th:only-of-type {\n",
       "        vertical-align: middle;\n",
       "    }\n",
       "\n",
       "    .dataframe tbody tr th {\n",
       "        vertical-align: top;\n",
       "    }\n",
       "\n",
       "    .dataframe thead th {\n",
       "        text-align: right;\n",
       "    }\n",
       "</style>\n",
       "<table border=\"1\" class=\"dataframe\">\n",
       "  <thead>\n",
       "    <tr style=\"text-align: right;\">\n",
       "      <th></th>\n",
       "      <th>Unnamed: 0</th>\n",
       "      <th>Age</th>\n",
       "      <th>Income</th>\n",
       "      <th>SpendingScore</th>\n",
       "      <th>Savings</th>\n",
       "    </tr>\n",
       "  </thead>\n",
       "  <tbody>\n",
       "    <tr>\n",
       "      <th>0</th>\n",
       "      <td>0</td>\n",
       "      <td>58</td>\n",
       "      <td>77769</td>\n",
       "      <td>0.791329</td>\n",
       "      <td>6559.829923</td>\n",
       "    </tr>\n",
       "    <tr>\n",
       "      <th>1</th>\n",
       "      <td>1</td>\n",
       "      <td>59</td>\n",
       "      <td>81799</td>\n",
       "      <td>0.791082</td>\n",
       "      <td>5417.661426</td>\n",
       "    </tr>\n",
       "    <tr>\n",
       "      <th>2</th>\n",
       "      <td>2</td>\n",
       "      <td>62</td>\n",
       "      <td>74751</td>\n",
       "      <td>0.702657</td>\n",
       "      <td>9258.992965</td>\n",
       "    </tr>\n",
       "    <tr>\n",
       "      <th>3</th>\n",
       "      <td>3</td>\n",
       "      <td>59</td>\n",
       "      <td>74373</td>\n",
       "      <td>0.765680</td>\n",
       "      <td>7346.334504</td>\n",
       "    </tr>\n",
       "    <tr>\n",
       "      <th>4</th>\n",
       "      <td>4</td>\n",
       "      <td>87</td>\n",
       "      <td>17760</td>\n",
       "      <td>0.348778</td>\n",
       "      <td>16869.507130</td>\n",
       "    </tr>\n",
       "  </tbody>\n",
       "</table>\n",
       "</div>"
      ],
      "text/plain": [
       "   Unnamed: 0  Age  Income  SpendingScore       Savings\n",
       "0           0   58   77769       0.791329   6559.829923\n",
       "1           1   59   81799       0.791082   5417.661426\n",
       "2           2   62   74751       0.702657   9258.992965\n",
       "3           3   59   74373       0.765680   7346.334504\n",
       "4           4   87   17760       0.348778  16869.507130"
      ]
     },
     "execution_count": 34,
     "metadata": {},
     "output_type": "execute_result"
    }
   ],
   "source": [
    "df_cust.head()"
   ]
  },
  {
   "cell_type": "code",
   "execution_count": 35,
   "id": "cd657955",
   "metadata": {},
   "outputs": [
    {
     "data": {
      "text/html": [
       "<div>\n",
       "<style scoped>\n",
       "    .dataframe tbody tr th:only-of-type {\n",
       "        vertical-align: middle;\n",
       "    }\n",
       "\n",
       "    .dataframe tbody tr th {\n",
       "        vertical-align: top;\n",
       "    }\n",
       "\n",
       "    .dataframe thead th {\n",
       "        text-align: right;\n",
       "    }\n",
       "</style>\n",
       "<table border=\"1\" class=\"dataframe\">\n",
       "  <thead>\n",
       "    <tr style=\"text-align: right;\">\n",
       "      <th></th>\n",
       "      <th>Unnamed: 0</th>\n",
       "      <th>Age</th>\n",
       "      <th>Income</th>\n",
       "      <th>SpendingScore</th>\n",
       "      <th>Savings</th>\n",
       "      <th>clusters</th>\n",
       "    </tr>\n",
       "  </thead>\n",
       "  <tbody>\n",
       "    <tr>\n",
       "      <th>0</th>\n",
       "      <td>0</td>\n",
       "      <td>58</td>\n",
       "      <td>77769</td>\n",
       "      <td>0.791329</td>\n",
       "      <td>6559.829923</td>\n",
       "      <td>2</td>\n",
       "    </tr>\n",
       "    <tr>\n",
       "      <th>1</th>\n",
       "      <td>1</td>\n",
       "      <td>59</td>\n",
       "      <td>81799</td>\n",
       "      <td>0.791082</td>\n",
       "      <td>5417.661426</td>\n",
       "      <td>2</td>\n",
       "    </tr>\n",
       "    <tr>\n",
       "      <th>2</th>\n",
       "      <td>2</td>\n",
       "      <td>62</td>\n",
       "      <td>74751</td>\n",
       "      <td>0.702657</td>\n",
       "      <td>9258.992965</td>\n",
       "      <td>2</td>\n",
       "    </tr>\n",
       "    <tr>\n",
       "      <th>3</th>\n",
       "      <td>3</td>\n",
       "      <td>59</td>\n",
       "      <td>74373</td>\n",
       "      <td>0.765680</td>\n",
       "      <td>7346.334504</td>\n",
       "      <td>2</td>\n",
       "    </tr>\n",
       "    <tr>\n",
       "      <th>4</th>\n",
       "      <td>4</td>\n",
       "      <td>87</td>\n",
       "      <td>17760</td>\n",
       "      <td>0.348778</td>\n",
       "      <td>16869.507130</td>\n",
       "      <td>1</td>\n",
       "    </tr>\n",
       "  </tbody>\n",
       "</table>\n",
       "</div>"
      ],
      "text/plain": [
       "   Unnamed: 0  Age  Income  SpendingScore       Savings  clusters\n",
       "0           0   58   77769       0.791329   6559.829923         2\n",
       "1           1   59   81799       0.791082   5417.661426         2\n",
       "2           2   62   74751       0.702657   9258.992965         2\n",
       "3           3   59   74373       0.765680   7346.334504         2\n",
       "4           4   87   17760       0.348778  16869.507130         1"
      ]
     },
     "execution_count": 35,
     "metadata": {},
     "output_type": "execute_result"
    }
   ],
   "source": [
    "df_cust['clusters'] = y_pred\n",
    "df_cust.head()"
   ]
  },
  {
   "cell_type": "code",
   "execution_count": 36,
   "id": "18cbd96a",
   "metadata": {},
   "outputs": [
    {
     "ename": "SyntaxError",
     "evalue": "invalid syntax (Temp/ipykernel_42264/2579765169.py, line 1)",
     "output_type": "error",
     "traceback": [
      "\u001b[1;36m  File \u001b[1;32m\"C:\\Users\\DELL\\AppData\\Local\\Temp/ipykernel_42264/2579765169.py\"\u001b[1;36m, line \u001b[1;32m1\u001b[0m\n\u001b[1;33m    Plotting the Clusters\u001b[0m\n\u001b[1;37m             ^\u001b[0m\n\u001b[1;31mSyntaxError\u001b[0m\u001b[1;31m:\u001b[0m invalid syntax\n"
     ]
    }
   ],
   "source": [
    "Plotting the Clusters"
   ]
  },
  {
   "cell_type": "code",
   "execution_count": 37,
   "id": "c9652257",
   "metadata": {},
   "outputs": [
    {
     "data": {
      "text/plain": [
       "array([2, 1, 0, 3])"
      ]
     },
     "execution_count": 37,
     "metadata": {},
     "output_type": "execute_result"
    }
   ],
   "source": [
    "df_cust['clusters'].unique()"
   ]
  },
  {
   "cell_type": "code",
   "execution_count": 38,
   "id": "5faccdaf",
   "metadata": {},
   "outputs": [
    {
     "data": {
      "text/plain": [
       "Text(0, 0.5, 'Cluster')"
      ]
     },
     "execution_count": 38,
     "metadata": {},
     "output_type": "execute_result"
    },
    {
     "data": {
      "image/png": "[encoded data removed]",
      "text/plain": [
       "<Figure size 432x288 with 1 Axes>"
      ]
     },
     "metadata": {
      "needs_background": "light"
     },
     "output_type": "display_data"
    }
   ],
   "source": [
    "df0 = df_cust[df_cust['clusters'] == 0]\n",
    "df01 = df_cust[df_cust['clusters'] == 1]\n",
    "df02 = df_cust[df_cust['clusters'] == 2]\n",
    "df03 = df_cust[df_cust['clusters'] == 3]\n",
    "# Scatter Plot  of Clusters\n",
    "plt.scatter(df0['Age'],df0['Savings'],color='blue')\n",
    "plt.scatter(df01['Age'],df01['Savings'],color='green')\n",
    "plt.scatter(df02['Age'],df02['Savings'],color='red')\n",
    "plt.scatter(df03['Age'],df03['Savings'],color='yellow')\n",
    "plt.xlabel('Features')\n",
    "plt.ylabel('Cluster')"
   ]
  },
  {
   "cell_type": "code",
   "execution_count": 39,
   "id": "2803ce6a",
   "metadata": {},
   "outputs": [
    {
     "data": {
      "text/plain": [
       "array([[2.42972222e+02, 4.08750000e+01, 1.26031667e+05, 6.54598429e-01,\n",
       "        7.28792610e+03],\n",
       "       [2.65503401e+02, 8.77755102e+01, 2.78661020e+04, 3.28800461e-01,\n",
       "        1.66592614e+04],\n",
       "       [2.33141026e+02, 5.99615385e+01, 7.23328462e+04, 7.71295985e-01,\n",
       "        6.89089329e+03],\n",
       "       [2.64361538e+02, 3.54230769e+01, 1.05228392e+05, 3.02152694e-01,\n",
       "        1.49378365e+04]])"
      ]
     },
     "execution_count": 39,
     "metadata": {},
     "output_type": "execute_result"
    }
   ],
   "source": [
    "km3.cluster_centers_"
   ]
  },
  {
   "cell_type": "markdown",
   "id": "4b84424f",
   "metadata": {},
   "source": [
    "### Scatter Plot with Centroids"
   ]
  },
  {
   "cell_type": "code",
   "execution_count": 40,
   "id": "1c761664",
   "metadata": {},
   "outputs": [
    {
     "data": {
      "text/plain": [
       "<matplotlib.legend.Legend at 0x1d198ec1e50>"
      ]
     },
     "execution_count": 40,
     "metadata": {},
     "output_type": "execute_result"
    },
    {
     "data": {
      "image/png": "[encoded data removed]",
      "text/plain": [
       "<Figure size 432x288 with 1 Axes>"
      ]
     },
     "metadata": {
      "needs_background": "light"
     },
     "output_type": "display_data"
    }
   ],
   "source": [
    "plt.scatter(df0['Age'],df0['Savings'],color='black')\n",
    "plt.scatter(df01['Age'],df01['Savings'],color='green')\n",
    "plt.scatter(df02['Age'],df02['Savings'],color='red')\n",
    "plt.scatter(df03['Age'],df03['Savings'],color='yellow')\n",
    "plt.scatter(km3.cluster_centers_\n",
    "           [:,0],km3.\n",
    "            cluster_centers_[:,3],\n",
    "           color='purple',marker='*',\n",
    "           label='centroid')\n",
    "\n",
    "plt.xlabel('Features')\n",
    "plt.ylabel('Cluster')\n",
    "plt.legend()"
   ]
  },
  {
   "cell_type": "markdown",
   "id": "1973e215",
   "metadata": {},
   "source": [
    "Using Silhouette Plot\n",
    "The silhouette score is a measure of how similar an object is to its own cluster (cohesion) compared to other clusters (separation)."
   ]
  },
  {
   "cell_type": "code",
   "execution_count": 41,
   "id": "c5ccbbec",
   "metadata": {},
   "outputs": [
    {
     "data": {
      "text/plain": [
       "<AxesSubplot:xlabel='The silhouette coefficient values', ylabel='Cluster label'>"
      ]
     },
     "execution_count": 41,
     "metadata": {},
     "output_type": "execute_result"
    },
    {
     "data": {
      "image/png": "[encoded data removed]",
      "text/plain": [
       "<Figure size 432x288 with 1 Axes>"
      ]
     },
     "metadata": {
      "needs_background": "light"
     },
     "output_type": "display_data"
    }
   ],
   "source": [
    "import matplotlib.cm as cm\n",
    "from sklearn.metrics import silhouette_samples, silhouette_score\n",
    "def silhouette_plot(X, y, n_clusters, ax=None):\n",
    "\tif ax is None:\n",
    "\t\tax = plt.gca()\n",
    "\t\t# Compute the silhouette scores for each sample\n",
    "\t\tsilhouette_avg = silhouette_score(X, y)\n",
    "\t\tsample_silhouette_values = silhouette_samples(X, y)\n",
    "\t\ty_lower = padding = 2\n",
    "\t\tfor i in range(n_clusters):\n",
    "\t# Aggregate the silhouette scores for samples belonging to\n",
    "\t\t\tith_cluster_silhouette_values = sample_silhouette_values[y == i]\n",
    "\t\t\tith_cluster_silhouette_values.sort()\n",
    "\t\t\tsize_cluster_i = ith_cluster_silhouette_values.shape[0]\n",
    "\t\t\ty_upper = y_lower + size_cluster_i\n",
    "\t\t\tcolor = cm.nipy_spectral(float(i) / n_clusters)\n",
    "\t\t\tax.fill_betweenx(np.arange(y_lower, y_upper),\n",
    "\t\t\t\t\t\t\t0,ith_cluster_silhouette_values,\n",
    "\t\t\t\t\t\t\tfacecolor=color,\n",
    "\t\t\t\t\t\t\tedgecolor=color,\n",
    "\t\t\t\t\t\t\talpha=0.7)\n",
    "\t\t\t# Label the silhouette plots with their cluster numbers at the middle\n",
    "\t\t\tax.text(-0.05, y_lower + 0.5 * size_cluster_i, str(i + 1))\n",
    "\t\t\t# Compute the new y_lower for next plot\n",
    "\t\t\ty_lower = y_upper + padding\n",
    "\t\tax.set_xlabel(\"The silhouette coefficient values\")\n",
    "\t\tax.set_ylabel(\"Cluster label\")\n",
    "\t\t# The vertical line for average silhoutte score of all the values\n",
    "\t\tax.axvline(x=silhouette_avg, c='r', alpha=0.8, lw=0.8, ls='-')\n",
    "\t\tax.annotate('Average',\n",
    "\t\t\t\t\txytext=(silhouette_avg, y_lower * 1.025),\n",
    "\t\t\t\t\txy=(0, 0),\n",
    "\t\t\t\t\tha='center',\n",
    "\t\t\t\t\talpha=0.8,\n",
    "\t\t\t\t\tc='r')\n",
    "\t\tax.set_yticks([]) # Clear the yaxis labels / ticks\n",
    "\t\tax.set_xticks([0, 0.2, 0.4, 0.6, 0.8, 1])\n",
    "\t\tax.set_ylim(0, y_upper + 1)\n",
    "\t\tax.set_xlim(-0.075, 1.0)\n",
    "\t\treturn ax\n",
    "### Silhoutte Plot\n",
    "silhouette_plot(df_cust,y_pred,4,ax=None)"
   ]
  },
  {
   "cell_type": "code",
   "execution_count": 42,
   "id": "fa03c51b",
   "metadata": {},
   "outputs": [
    {
     "data": {
      "text/plain": [
       "<AxesSubplot:xlabel='The silhouette coefficient values', ylabel='Cluster label'>"
      ]
     },
     "execution_count": 42,
     "metadata": {},
     "output_type": "execute_result"
    },
    {
     "data": {
      "image/png": "[encoded data removed]",
      "text/plain": [
       "<Figure size 432x288 with 1 Axes>"
      ]
     },
     "metadata": {
      "needs_background": "light"
     },
     "output_type": "display_data"
    }
   ],
   "source": [
    "### Silhoutte Plot\n",
    "silhouette_plot(df_cust,y_pred,3,ax=None)"
   ]
  },
  {
   "cell_type": "code",
   "execution_count": 43,
   "id": "9100ba81",
   "metadata": {},
   "outputs": [
    {
     "data": {
      "text/plain": [
       "<AxesSubplot:xlabel='The silhouette coefficient values', ylabel='Cluster label'>"
      ]
     },
     "execution_count": 43,
     "metadata": {},
     "output_type": "execute_result"
    },
    {
     "data": {
      "image/png": "[encoded data removed]",
      "text/plain": [
       "<Figure size 432x288 with 1 Axes>"
      ]
     },
     "metadata": {
      "needs_background": "light"
     },
     "output_type": "display_data"
    }
   ],
   "source": [
    "### Silhoutte Plot\n",
    "silhouette_plot(df_cust,y_pred,2,ax=None)"
   ]
  },
  {
   "cell_type": "code",
   "execution_count": 44,
   "id": "a7a3e102",
   "metadata": {},
   "outputs": [
    {
     "data": {
      "text/plain": [
       "<AxesSubplot:xlabel='The silhouette coefficient values', ylabel='Cluster label'>"
      ]
     },
     "execution_count": 44,
     "metadata": {},
     "output_type": "execute_result"
    },
    {
     "data": {
      "image/png": "[encoded data removed]",
      "text/plain": [
       "<Figure size 432x288 with 1 Axes>"
      ]
     },
     "metadata": {
      "needs_background": "light"
     },
     "output_type": "display_data"
    }
   ],
   "source": [
    "### Silhoutte Plot\n",
    "silhouette_plot(df_cust,y_pred,6,ax=None)"
   ]
  },
  {
   "cell_type": "raw",
   "id": "16158b08",
   "metadata": {},
   "source": [
    "DBSCAN stands for Density-Based Spatial Clustering of Applications with Noise\n",
    "It refers to an unsupervised learning methods that identify distinctive groups/clusters in the data, based on the idea that a cluster in data space is a contiguous region of high point density, separated from other such clusters by contiguous regions of low point density.(kdnuggets)\n",
    "DBSCAN is a base algorithm for density-based clustering.\n",
    "\n",
    "It can discover clusters of different shapes and sizes from a large amount of data\n",
    "Usefulness\n",
    "Unsupervised ML\n",
    "Outlier Detection\n",
    "Noise detection\n",
    "Terms\n",
    "The DBSCAN algorithm uses two parameters:\n",
    "\n",
    "eps (ε): A distance measure that will be used to locate the points in the neighborhood of any point.\n",
    "\n",
    "minPts: The minimum number of points (a threshold) clustered together for a region to be considered dense.\n",
    "\n",
    "minPt >= Dimensions of dataset + 1\n",
    "Core point — This is a point that has at least m points within distance n from itself.\n",
    "\n",
    "Border — This is a point that has at least one Core point at a distance n.\n",
    "Noise — This is a point that is neither a Core nor a Border. And it has less than m points within distance n from itself.\n",
    "These parameters can be understood if we explore two concepts called Density Reachability and Density Connectivity.\n",
    "\n",
    "Reachability in terms of density establishes a point to be reachable from another if it lies within a particular distance (eps) from it.\n",
    "\n",
    "Connectivity, on the other hand, involves a transitivity based chaining-approach to determine whether points are located in a particular cluster. For example, p and q points could be connected if p->r->s->t->q, where a->b means b is in the neighborhood of a."
   ]
  },
  {
   "cell_type": "markdown",
   "id": "f57773e0",
   "metadata": {},
   "source": [
    "### Scaling Dataset\n",
    "StandardScaler\n",
    "MinMaxScaler"
   ]
  },
  {
   "cell_type": "code",
   "execution_count": 45,
   "id": "ab22fc06",
   "metadata": {},
   "outputs": [],
   "source": [
    "df = pd.read_csv(\"jewellery.csv\")"
   ]
  },
  {
   "cell_type": "code",
   "execution_count": 46,
   "id": "9d0377c8",
   "metadata": {},
   "outputs": [
    {
     "data": {
      "text/plain": [
       "(505, 5)"
      ]
     },
     "execution_count": 46,
     "metadata": {},
     "output_type": "execute_result"
    }
   ],
   "source": [
    "df.shape"
   ]
  },
  {
   "cell_type": "code",
   "execution_count": 47,
   "id": "0f5f224e",
   "metadata": {},
   "outputs": [
    {
     "data": {
      "text/html": [
       "<div>\n",
       "<style scoped>\n",
       "    .dataframe tbody tr th:only-of-type {\n",
       "        vertical-align: middle;\n",
       "    }\n",
       "\n",
       "    .dataframe tbody tr th {\n",
       "        vertical-align: top;\n",
       "    }\n",
       "\n",
       "    .dataframe thead th {\n",
       "        text-align: right;\n",
       "    }\n",
       "</style>\n",
       "<table border=\"1\" class=\"dataframe\">\n",
       "  <thead>\n",
       "    <tr style=\"text-align: right;\">\n",
       "      <th></th>\n",
       "      <th>Unnamed: 0</th>\n",
       "      <th>Age</th>\n",
       "      <th>Income</th>\n",
       "      <th>SpendingScore</th>\n",
       "      <th>Savings</th>\n",
       "    </tr>\n",
       "  </thead>\n",
       "  <tbody>\n",
       "    <tr>\n",
       "      <th>0</th>\n",
       "      <td>0</td>\n",
       "      <td>58</td>\n",
       "      <td>77769</td>\n",
       "      <td>0.791329</td>\n",
       "      <td>6559.829923</td>\n",
       "    </tr>\n",
       "    <tr>\n",
       "      <th>1</th>\n",
       "      <td>1</td>\n",
       "      <td>59</td>\n",
       "      <td>81799</td>\n",
       "      <td>0.791082</td>\n",
       "      <td>5417.661426</td>\n",
       "    </tr>\n",
       "    <tr>\n",
       "      <th>2</th>\n",
       "      <td>2</td>\n",
       "      <td>62</td>\n",
       "      <td>74751</td>\n",
       "      <td>0.702657</td>\n",
       "      <td>9258.992965</td>\n",
       "    </tr>\n",
       "    <tr>\n",
       "      <th>3</th>\n",
       "      <td>3</td>\n",
       "      <td>59</td>\n",
       "      <td>74373</td>\n",
       "      <td>0.765680</td>\n",
       "      <td>7346.334504</td>\n",
       "    </tr>\n",
       "    <tr>\n",
       "      <th>4</th>\n",
       "      <td>4</td>\n",
       "      <td>87</td>\n",
       "      <td>17760</td>\n",
       "      <td>0.348778</td>\n",
       "      <td>16869.507130</td>\n",
       "    </tr>\n",
       "  </tbody>\n",
       "</table>\n",
       "</div>"
      ],
      "text/plain": [
       "   Unnamed: 0  Age  Income  SpendingScore       Savings\n",
       "0           0   58   77769       0.791329   6559.829923\n",
       "1           1   59   81799       0.791082   5417.661426\n",
       "2           2   62   74751       0.702657   9258.992965\n",
       "3           3   59   74373       0.765680   7346.334504\n",
       "4           4   87   17760       0.348778  16869.507130"
      ]
     },
     "execution_count": 47,
     "metadata": {},
     "output_type": "execute_result"
    }
   ],
   "source": [
    "df.head()"
   ]
  },
  {
   "cell_type": "code",
   "execution_count": 48,
   "id": "b88f069e",
   "metadata": {},
   "outputs": [
    {
     "data": {
      "text/plain": [
       "array([[-1.72862439e+00, -4.22871323e-02,  6.27330450e-02,\n",
       "         1.10359261e+00, -1.07246676e+00],\n",
       "       [-1.72176477e+00, -8.21109365e-04,  1.74810526e-01,\n",
       "         1.10264136e+00, -1.30347264e+00],\n",
       "       [-1.71490515e+00,  1.23576959e-01, -2.11999168e-02,\n",
       "         7.61727378e-01, -5.26555609e-01],\n",
       "       ...,\n",
       "       [ 1.71490515e+00,  1.28462560e+00, -1.11844679e+00,\n",
       "        -5.78054216e-01,  8.55312853e-01],\n",
       "       [ 1.72176477e+00,  1.32609162e+00, -1.52492929e+00,\n",
       "        -5.79865675e-01,  1.32245159e+00],\n",
       "       [ 1.72862439e+00,  1.24315958e+00, -1.25833506e+00,\n",
       "        -8.31889623e-01,  5.10463045e-01]])"
      ]
     },
     "execution_count": 48,
     "metadata": {},
     "output_type": "execute_result"
    }
   ],
   "source": [
    "# Scale our data\n",
    "from sklearn.preprocessing import StandardScaler\n",
    "X = StandardScaler().fit_transform(df)\n",
    "X"
   ]
  },
  {
   "cell_type": "code",
   "execution_count": 49,
   "id": "7ab21644",
   "metadata": {},
   "outputs": [
    {
     "data": {
      "text/plain": [
       "array([-1, -1, -1, -1, -1, -1, -1, -1, -1, -1, -1, -1, -1, -1, -1, -1, -1,\n",
       "       -1, -1, -1, -1, -1, -1, -1, -1, -1, -1, -1, -1, -1, -1, -1, -1, -1,\n",
       "       -1, -1, -1, -1, -1, -1, -1, -1, -1, -1, -1, -1, -1, -1, -1, -1, -1,\n",
       "       -1, -1, -1, -1, -1, -1, -1, -1, -1, -1, -1, -1, -1, -1, -1, -1, -1,\n",
       "       -1, -1, -1, -1, -1, -1, -1, -1, -1, -1, -1, -1, -1, -1, -1, -1, -1,\n",
       "       -1, -1, -1, -1, -1, -1, -1, -1, -1, -1, -1, -1, -1, -1, -1, -1, -1,\n",
       "       -1, -1, -1, -1, -1, -1, -1, -1, -1, -1, -1, -1, -1, -1, -1, -1, -1,\n",
       "       -1, -1, -1, -1, -1, -1, -1, -1, -1, -1, -1, -1, -1, -1, -1, -1, -1,\n",
       "       -1, -1, -1, -1, -1, -1, -1, -1, -1, -1, -1, -1, -1, -1, -1, -1, -1,\n",
       "       -1, -1, -1, -1, -1, -1, -1, -1, -1, -1, -1, -1, -1, -1, -1, -1, -1,\n",
       "       -1, -1, -1, -1, -1, -1, -1, -1, -1, -1, -1, -1, -1, -1, -1, -1, -1,\n",
       "       -1, -1, -1, -1, -1, -1, -1, -1, -1, -1, -1, -1, -1, -1, -1, -1, -1,\n",
       "       -1, -1, -1, -1, -1, -1, -1, -1, -1, -1, -1, -1, -1, -1, -1, -1, -1,\n",
       "        0, -1, -1, -1, -1, -1,  0, -1, -1,  0,  0, -1, -1,  0, -1, -1,  0,\n",
       "       -1, -1, -1, -1, -1,  0, -1, -1, -1, -1, -1, -1, -1, -1,  0, -1, -1,\n",
       "       -1, -1, -1,  0, -1, -1, -1,  0, -1, -1, -1, -1, -1, -1, -1, -1, -1,\n",
       "       -1, -1, -1, -1, -1, -1, -1, -1, -1, -1, -1, -1, -1, -1, -1, -1, -1,\n",
       "       -1, -1, -1, -1, -1, -1, -1, -1, -1, -1, -1, -1, -1, -1, -1, -1, -1,\n",
       "       -1, -1, -1, -1, -1, -1, -1, -1, -1, -1, -1, -1, -1, -1, -1, -1, -1,\n",
       "       -1, -1, -1, -1, -1, -1, -1, -1, -1, -1, -1, -1, -1, -1, -1, -1, -1,\n",
       "       -1, -1, -1, -1, -1, -1, -1, -1, -1, -1, -1, -1, -1, -1, -1, -1, -1,\n",
       "       -1, -1, -1, -1, -1, -1,  1, -1, -1, -1, -1, -1, -1, -1, -1,  1,  1,\n",
       "       -1,  1,  1, -1, -1,  1, -1, -1, -1, -1, -1,  1, -1, -1, -1, -1,  1,\n",
       "       -1, -1, -1, -1, -1, -1, -1, -1,  1, -1, -1, -1, -1,  1, -1, -1, -1,\n",
       "       -1, -1, -1, -1, -1, -1, -1, -1, -1, -1, -1, -1, -1, -1, -1, -1, -1,\n",
       "       -1, -1, -1, -1, -1, -1, -1, -1, -1, -1, -1, -1, -1, -1, -1, -1, -1,\n",
       "       -1, -1, -1, -1, -1, -1, -1, -1, -1, -1, -1, -1, -1, -1, -1, -1, -1,\n",
       "       -1, -1, -1, -1, -1, -1, -1, -1, -1, -1, -1, -1, -1, -1, -1, -1, -1,\n",
       "       -1, -1, -1, -1, -1, -1, -1, -1, -1, -1, -1, -1, -1, -1, -1, -1, -1,\n",
       "       -1, -1, -1, -1, -1, -1, -1, -1, -1, -1, -1, -1], dtype=int64)"
      ]
     },
     "execution_count": 49,
     "metadata": {},
     "output_type": "execute_result"
    }
   ],
   "source": [
    "# Init Model\n",
    "from sklearn.cluster import DBSCAN\n",
    "dbscan = DBSCAN(eps=0.3,min_samples=10)\n",
    "# Fit Model\n",
    "y_cluster_dbs = dbscan.fit_predict(X)\n",
    "y_cluster_dbs"
   ]
  },
  {
   "cell_type": "code",
   "execution_count": null,
   "id": "42b4421c",
   "metadata": {},
   "outputs": [],
   "source": [
    "#  Number of Unique Clusters\n",
    "set(y_cluster_dbs)\n",
    "{-1, 0, 1, 2, 3, 4}\n",
    "# Non Spherical Data\n",
    "plt.scatter(X[:,0],X[:,1],c=y_cluster_dbs)"
   ]
  },
  {
   "cell_type": "code",
   "execution_count": 50,
   "id": "965518c3",
   "metadata": {},
   "outputs": [
    {
     "data": {
      "text/plain": [
       "485"
      ]
     },
     "execution_count": 50,
     "metadata": {},
     "output_type": "execute_result"
    }
   ],
   "source": [
    "# Number of cluster\n",
    "labels = dbscan.labels_\n",
    "n_clusters_ = len(set(labels)) - (1 if -1 in labels else 0)\n",
    "n_clusters_\n",
    "#5\n",
    "# Identify Noise\n",
    "n_noise = list(dbscan.labels_).count(-1)\n",
    "n_noise"
   ]
  },
  {
   "cell_type": "markdown",
   "id": "58bf810a",
   "metadata": {},
   "source": [
    "### Clustering using BIRCH"
   ]
  },
  {
   "cell_type": "markdown",
   "id": "11a52f2a",
   "metadata": {},
   "source": [
    "\n",
    "BIRCH stands for Balanced Iterative Reducing and Clustering using Hierarchies\n",
    "It is a hierarchical clustering algorithm.\n",
    "It provides a memory-efficient clustering method for large datasets.\n",
    "Very good for large dataset\n",
    "Clustering is conducted without scanning all points in a dataset.\n",
    "The BIRCH algorithm creates Clustering Features (CF) Tree for a given dataset and CF contains the number of sub-clusters that holds only a necessary part of the data. Thus the method does not require to memorize the entire dataset."
   ]
  },
  {
   "cell_type": "raw",
   "id": "a98f530f",
   "metadata": {},
   "source": [
    "Terms\n",
    "branching_factor: it defines the number of sub-clusters and\n",
    "threshold: it sets the limit between the sample and sub-cluster."
   ]
  },
  {
   "cell_type": "raw",
   "id": "251ae989",
   "metadata": {},
   "source": [
    "Benefit\n",
    "Useful for large dataset\n",
    "BIRCH can work with any given amount of memory, and the I/O complexity is a little more than one scan of data."
   ]
  },
  {
   "cell_type": "code",
   "execution_count": 51,
   "id": "0eb7178e",
   "metadata": {},
   "outputs": [
    {
     "data": {
      "text/plain": [
       "<matplotlib.collections.PathCollection at 0x1d1990a95b0>"
      ]
     },
     "execution_count": 51,
     "metadata": {},
     "output_type": "execute_result"
    },
    {
     "data": {
      "image/png": "[encoded data removed]",
      "text/plain": [
       "<Figure size 432x288 with 1 Axes>"
      ]
     },
     "metadata": {
      "needs_background": "light"
     },
     "output_type": "display_data"
    }
   ],
   "source": [
    "from sklearn.cluster import Birch\n",
    "birch_model = Birch(branching_factor=100,threshold=0.5,n_clusters=4)\n",
    "birch_model.fit(df)\n",
    "Birch(branching_factor=100, compute_labels=True, copy=True, n_clusters=4,\n",
    "      threshold=0.5)\n",
    "y_clus_bch = birch_model.predict(df)\n",
    "plt.scatter(df['Age'],df['Income'],c=birch_model.labels_)"
   ]
  },
  {
   "cell_type": "markdown",
   "id": "0f38dc91",
   "metadata": {},
   "source": [
    "### Clustering using Hierarchical Clustering"
   ]
  },
  {
   "cell_type": "raw",
   "id": "5f174da9",
   "metadata": {},
   "source": [
    "Clustering using Hierarchical Clustering\n",
    "Hierarchical Clustering: the process of building a hierarchy or ordering of clusters till only one cluster is left\n",
    "Types of Hierarchical Clustering\n",
    "Additive(Agglomerative) hierarchical clustering\n",
    "\n",
    "Agglomerate (merge or join)\n",
    "Assign each point to a cluster\n",
    "Merge/Join closes pairs of clusters into one\n",
    "Repeat until you have a single cluster\n",
    "You keep on adding or joining clusters\n",
    "Divisive hierarchical clustering\n",
    "\n",
    "Opposite of Additive\n",
    "Start with a single large cluster\n",
    "Divide/Split the farthest point in the cluster\n",
    "Repeat until each cluster only contains a single data point\n",
    "Terms\n",
    "Similarity Distance\n",
    "Proximity Matrix: it stores the distances between each point\n",
    "Dendogram: used to find the number of clusters\n",
    "A dendrogram is a tree-like diagram that records the sequences of merges or splits.\n",
    "The number of clusters will be the number of vertical lines which are being intersected by the line drawn using the threshold.\n",
    "Agglomerative Hierarchical Clustering\n",
    "Merging clusters\n",
    "Dendogram to detect n_clusters to use and end at"
   ]
  },
  {
   "cell_type": "code",
   "execution_count": 52,
   "id": "c6e50b38",
   "metadata": {},
   "outputs": [
    {
     "data": {
      "text/html": [
       "<div>\n",
       "<style scoped>\n",
       "    .dataframe tbody tr th:only-of-type {\n",
       "        vertical-align: middle;\n",
       "    }\n",
       "\n",
       "    .dataframe tbody tr th {\n",
       "        vertical-align: top;\n",
       "    }\n",
       "\n",
       "    .dataframe thead th {\n",
       "        text-align: right;\n",
       "    }\n",
       "</style>\n",
       "<table border=\"1\" class=\"dataframe\">\n",
       "  <thead>\n",
       "    <tr style=\"text-align: right;\">\n",
       "      <th></th>\n",
       "      <th>Unnamed: 0</th>\n",
       "      <th>Age</th>\n",
       "      <th>Income</th>\n",
       "      <th>SpendingScore</th>\n",
       "      <th>Savings</th>\n",
       "    </tr>\n",
       "  </thead>\n",
       "  <tbody>\n",
       "    <tr>\n",
       "      <th>0</th>\n",
       "      <td>0</td>\n",
       "      <td>58</td>\n",
       "      <td>77769</td>\n",
       "      <td>0.791329</td>\n",
       "      <td>6559.829923</td>\n",
       "    </tr>\n",
       "    <tr>\n",
       "      <th>1</th>\n",
       "      <td>1</td>\n",
       "      <td>59</td>\n",
       "      <td>81799</td>\n",
       "      <td>0.791082</td>\n",
       "      <td>5417.661426</td>\n",
       "    </tr>\n",
       "    <tr>\n",
       "      <th>2</th>\n",
       "      <td>2</td>\n",
       "      <td>62</td>\n",
       "      <td>74751</td>\n",
       "      <td>0.702657</td>\n",
       "      <td>9258.992965</td>\n",
       "    </tr>\n",
       "    <tr>\n",
       "      <th>3</th>\n",
       "      <td>3</td>\n",
       "      <td>59</td>\n",
       "      <td>74373</td>\n",
       "      <td>0.765680</td>\n",
       "      <td>7346.334504</td>\n",
       "    </tr>\n",
       "    <tr>\n",
       "      <th>4</th>\n",
       "      <td>4</td>\n",
       "      <td>87</td>\n",
       "      <td>17760</td>\n",
       "      <td>0.348778</td>\n",
       "      <td>16869.507130</td>\n",
       "    </tr>\n",
       "  </tbody>\n",
       "</table>\n",
       "</div>"
      ],
      "text/plain": [
       "   Unnamed: 0  Age  Income  SpendingScore       Savings\n",
       "0           0   58   77769       0.791329   6559.829923\n",
       "1           1   59   81799       0.791082   5417.661426\n",
       "2           2   62   74751       0.702657   9258.992965\n",
       "3           3   59   74373       0.765680   7346.334504\n",
       "4           4   87   17760       0.348778  16869.507130"
      ]
     },
     "execution_count": 52,
     "metadata": {},
     "output_type": "execute_result"
    }
   ],
   "source": [
    "# Load Dataset\n",
    "df = pd.read_csv(\"jewellery.csv\")\n",
    "df.head()"
   ]
  },
  {
   "cell_type": "code",
   "execution_count": 53,
   "id": "9a8e5dc7",
   "metadata": {},
   "outputs": [
    {
     "data": {
      "text/html": [
       "<div>\n",
       "<style scoped>\n",
       "    .dataframe tbody tr th:only-of-type {\n",
       "        vertical-align: middle;\n",
       "    }\n",
       "\n",
       "    .dataframe tbody tr th {\n",
       "        vertical-align: top;\n",
       "    }\n",
       "\n",
       "    .dataframe thead th {\n",
       "        text-align: right;\n",
       "    }\n",
       "</style>\n",
       "<table border=\"1\" class=\"dataframe\">\n",
       "  <thead>\n",
       "    <tr style=\"text-align: right;\">\n",
       "      <th></th>\n",
       "      <th>Unnamed: 0</th>\n",
       "      <th>Age</th>\n",
       "      <th>Income</th>\n",
       "      <th>SpendingScore</th>\n",
       "      <th>Savings</th>\n",
       "    </tr>\n",
       "  </thead>\n",
       "  <tbody>\n",
       "    <tr>\n",
       "      <th>0</th>\n",
       "      <td>0.000000</td>\n",
       "      <td>0.000743</td>\n",
       "      <td>0.996461</td>\n",
       "      <td>0.000010</td>\n",
       "      <td>0.084052</td>\n",
       "    </tr>\n",
       "    <tr>\n",
       "      <th>1</th>\n",
       "      <td>0.000012</td>\n",
       "      <td>0.000720</td>\n",
       "      <td>0.997814</td>\n",
       "      <td>0.000010</td>\n",
       "      <td>0.066087</td>\n",
       "    </tr>\n",
       "    <tr>\n",
       "      <th>2</th>\n",
       "      <td>0.000027</td>\n",
       "      <td>0.000823</td>\n",
       "      <td>0.992416</td>\n",
       "      <td>0.000009</td>\n",
       "      <td>0.122925</td>\n",
       "    </tr>\n",
       "    <tr>\n",
       "      <th>3</th>\n",
       "      <td>0.000040</td>\n",
       "      <td>0.000789</td>\n",
       "      <td>0.995157</td>\n",
       "      <td>0.000010</td>\n",
       "      <td>0.098298</td>\n",
       "    </tr>\n",
       "    <tr>\n",
       "      <th>4</th>\n",
       "      <td>0.000163</td>\n",
       "      <td>0.003552</td>\n",
       "      <td>0.725046</td>\n",
       "      <td>0.000014</td>\n",
       "      <td>0.688692</td>\n",
       "    </tr>\n",
       "    <tr>\n",
       "      <th>...</th>\n",
       "      <td>...</td>\n",
       "      <td>...</td>\n",
       "      <td>...</td>\n",
       "      <td>...</td>\n",
       "      <td>...</td>\n",
       "    </tr>\n",
       "    <tr>\n",
       "      <th>500</th>\n",
       "      <td>0.004887</td>\n",
       "      <td>0.000274</td>\n",
       "      <td>0.989272</td>\n",
       "      <td>0.000004</td>\n",
       "      <td>0.146004</td>\n",
       "    </tr>\n",
       "    <tr>\n",
       "      <th>501</th>\n",
       "      <td>0.018664</td>\n",
       "      <td>0.003465</td>\n",
       "      <td>0.742621</td>\n",
       "      <td>0.000008</td>\n",
       "      <td>0.669443</td>\n",
       "    </tr>\n",
       "    <tr>\n",
       "      <th>502</th>\n",
       "      <td>0.012940</td>\n",
       "      <td>0.002320</td>\n",
       "      <td>0.909828</td>\n",
       "      <td>0.000009</td>\n",
       "      <td>0.414778</td>\n",
       "    </tr>\n",
       "    <tr>\n",
       "      <th>503</th>\n",
       "      <td>0.018167</td>\n",
       "      <td>0.003287</td>\n",
       "      <td>0.746959</td>\n",
       "      <td>0.000013</td>\n",
       "      <td>0.664613</td>\n",
       "    </tr>\n",
       "    <tr>\n",
       "      <th>504</th>\n",
       "      <td>0.015038</td>\n",
       "      <td>0.002655</td>\n",
       "      <td>0.903062</td>\n",
       "      <td>0.000009</td>\n",
       "      <td>0.429239</td>\n",
       "    </tr>\n",
       "  </tbody>\n",
       "</table>\n",
       "<p>505 rows × 5 columns</p>\n",
       "</div>"
      ],
      "text/plain": [
       "     Unnamed: 0       Age    Income  SpendingScore   Savings\n",
       "0      0.000000  0.000743  0.996461       0.000010  0.084052\n",
       "1      0.000012  0.000720  0.997814       0.000010  0.066087\n",
       "2      0.000027  0.000823  0.992416       0.000009  0.122925\n",
       "3      0.000040  0.000789  0.995157       0.000010  0.098298\n",
       "4      0.000163  0.003552  0.725046       0.000014  0.688692\n",
       "..          ...       ...       ...            ...       ...\n",
       "500    0.004887  0.000274  0.989272       0.000004  0.146004\n",
       "501    0.018664  0.003465  0.742621       0.000008  0.669443\n",
       "502    0.012940  0.002320  0.909828       0.000009  0.414778\n",
       "503    0.018167  0.003287  0.746959       0.000013  0.664613\n",
       "504    0.015038  0.002655  0.903062       0.000009  0.429239\n",
       "\n",
       "[505 rows x 5 columns]"
      ]
     },
     "execution_count": 53,
     "metadata": {},
     "output_type": "execute_result"
    }
   ],
   "source": [
    "# Normalization\n",
    "from sklearn.preprocessing import normalize\n",
    "# Scale/Normal\n",
    "df_scaled = normalize(df)\n",
    "df_scaled = pd.DataFrame(df_scaled,columns=df.columns)\n",
    "df_scaled"
   ]
  },
  {
   "cell_type": "code",
   "execution_count": 54,
   "id": "1403fbd0",
   "metadata": {},
   "outputs": [
    {
     "data": {
      "image/png": "[encoded data removed]",
      "text/plain": [
       "<Figure size 720x504 with 1 Axes>"
      ]
     },
     "metadata": {
      "needs_background": "light"
     },
     "output_type": "display_data"
    }
   ],
   "source": [
    "# Detecting Number of Clusters sing Dendogram\n",
    "import scipy.cluster.hierarchy as shc\n",
    "plt.figure(figsize=(10,7))\n",
    "plt.title(\"Dendogram For UML\")\n",
    "dend = shc.dendrogram(shc.linkage(df_scaled,method='ward'))"
   ]
  },
  {
   "cell_type": "code",
   "execution_count": 55,
   "id": "2dceef67",
   "metadata": {},
   "outputs": [
    {
     "data": {
      "text/plain": [
       "<matplotlib.lines.Line2D at 0x1d1997ddd00>"
      ]
     },
     "execution_count": 55,
     "metadata": {},
     "output_type": "execute_result"
    },
    {
     "data": {
      "image/png": "[encoded data removed]",
      "text/plain": [
       "<Figure size 720x504 with 1 Axes>"
      ]
     },
     "metadata": {
      "needs_background": "light"
     },
     "output_type": "display_data"
    }
   ],
   "source": [
    "plt.figure(figsize=(10,7))\n",
    "plt.title(\"Dendogram For UML\")\n",
    "dend = shc.dendrogram(shc.linkage(df_scaled,method='ward'))\n",
    "plt.axhline(y=2,color='r',linestyle='--')"
   ]
  },
  {
   "cell_type": "code",
   "execution_count": 56,
   "id": "0ac2ed67",
   "metadata": {},
   "outputs": [
    {
     "data": {
      "text/plain": [
       "array([1, 1, 1, 1, 0, 1, 1, 0, 0, 0, 1, 1, 1, 1, 1, 1, 1, 0, 0, 1, 1, 1,\n",
       "       1, 0, 1, 1, 1, 1, 0, 1, 1, 1, 0, 1, 1, 1, 0, 1, 1, 1, 1, 0, 1, 1,\n",
       "       1, 1, 1, 1, 1, 1, 0, 1, 1, 0, 1, 0, 1, 0, 0, 0, 0, 0, 0, 1, 1, 1,\n",
       "       0, 1, 1, 1, 1, 1, 0, 0, 1, 1, 1, 1, 1, 1, 1, 1, 1, 0, 0, 1, 1, 1,\n",
       "       1, 1, 1, 1, 1, 0, 1, 1, 1, 1, 1, 1, 1, 1, 1, 1, 1, 0, 0, 1, 1, 1,\n",
       "       0, 1, 1, 1, 1, 1, 1, 1, 1, 0, 1, 0, 0, 0, 1, 1, 1, 0, 1, 1, 1, 1,\n",
       "       1, 1, 1, 0, 1, 1, 1, 1, 0, 1, 1, 1, 1, 1, 1, 1, 1, 0, 1, 1, 0, 1,\n",
       "       0, 1, 1, 1, 0, 1, 1, 0, 1, 1, 0, 1, 0, 1, 1, 1, 0, 1, 1, 1, 0, 1,\n",
       "       1, 0, 0, 0, 1, 1, 1, 1, 1, 0, 1, 1, 1, 1, 1, 0, 1, 1, 1, 0, 1, 1,\n",
       "       0, 0, 0, 1, 1, 1, 1, 1, 1, 0, 1, 1, 0, 0, 0, 0, 1, 0, 1, 1, 1, 0,\n",
       "       1, 1, 1, 0, 1, 1, 1, 1, 1, 0, 1, 1, 0, 1, 1, 1, 1, 1, 1, 1, 1, 1,\n",
       "       1, 1, 1, 1, 1, 0, 1, 1, 1, 0, 1, 1, 0, 0, 1, 1, 1, 1, 1, 1, 1, 0,\n",
       "       1, 0, 1, 1, 1, 1, 0, 1, 0, 0, 1, 1, 0, 0, 1, 1, 0, 1, 1, 1, 1, 0,\n",
       "       0, 1, 1, 0, 0, 1, 1, 1, 1, 1, 1, 0, 0, 1, 1, 1, 0, 1, 1, 1, 1, 0,\n",
       "       1, 1, 0, 1, 1, 1, 0, 1, 1, 1, 0, 1, 0, 1, 0, 1, 0, 0, 1, 0, 1, 1,\n",
       "       1, 1, 1, 1, 1, 0, 0, 1, 1, 1, 0, 1, 0, 1, 1, 1, 1, 0, 0, 1, 1, 1,\n",
       "       1, 1, 1, 1, 1, 0, 1, 0, 1, 1, 0, 0, 1, 0, 1, 1, 1, 1, 1, 1, 0, 0,\n",
       "       0, 0, 0, 1, 1, 0, 1, 1, 1, 1, 0, 0, 1, 0, 0, 1, 0, 0, 1, 0, 1, 1,\n",
       "       1, 1, 1, 0, 1, 1, 1, 1, 0, 1, 1, 1, 1, 1, 1, 1, 1, 1, 1, 1, 1, 1,\n",
       "       0, 1, 0, 1, 0, 1, 1, 1, 0, 1, 1, 0, 1, 1, 1, 1, 1, 0, 1, 1, 1, 0,\n",
       "       1, 0, 1, 1, 1, 1, 1, 1, 0, 0, 1, 1, 1, 1, 1, 1, 1, 1, 1, 0, 1, 1,\n",
       "       1, 1, 0, 0, 1, 1, 1, 1, 1, 1, 1, 1, 1, 0, 1, 1, 1, 1, 1, 0, 1, 0,\n",
       "       0, 0, 0, 1, 0, 0, 0, 1, 1, 0, 0, 1, 1, 0, 1, 1, 1, 0, 0, 0, 0],\n",
       "      dtype=int64)"
      ]
     },
     "execution_count": 56,
     "metadata": {},
     "output_type": "execute_result"
    }
   ],
   "source": [
    "# model building\n",
    "from sklearn.cluster import AgglomerativeClustering\n",
    "hcluster = AgglomerativeClustering(n_clusters=2,affinity='euclidean',linkage='ward')\n",
    "y_clust_hcl = hcluster.fit_predict(df_scaled)\n",
    "y_clust_hcl"
   ]
  },
  {
   "cell_type": "code",
   "execution_count": 57,
   "id": "59c529d4",
   "metadata": {},
   "outputs": [
    {
     "data": {
      "text/plain": [
       "<matplotlib.collections.PathCollection at 0x1d19acbcc70>"
      ]
     },
     "execution_count": 57,
     "metadata": {},
     "output_type": "execute_result"
    },
    {
     "data": {
      "image/png": "[encoded data removed]",
      "text/plain": [
       "<Figure size 720x504 with 1 Axes>"
      ]
     },
     "metadata": {
      "needs_background": "light"
     },
     "output_type": "display_data"
    }
   ],
   "source": [
    "df_scaled['clusters'] = y_clust_hcl\n",
    "# Plot\n",
    "plt.figure(figsize=(10,7))\n",
    "plt.scatter(df_scaled['Age'],df_scaled['Savings'],c=df_scaled['clusters'])"
   ]
  },
  {
   "cell_type": "code",
   "execution_count": null,
   "id": "4afeffc0",
   "metadata": {},
   "outputs": [],
   "source": []
  }
 ],
 "metadata": {
  "kernelspec": {
   "display_name": "Python 3 (ipykernel)",
   "language": "python",
   "name": "python3"
  },
  "language_info": {
   "codemirror_mode": {
    "name": "ipython",
    "version": 3
   },
   "file_extension": ".py",
   "mimetype": "text/x-python",
   "name": "python",
   "nbconvert_exporter": "python",
   "pygments_lexer": "ipython3",
   "version": "3.9.7"
  }
 },
 "nbformat": 4,
 "nbformat_minor": 5
}
